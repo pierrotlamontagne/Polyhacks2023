{
 "cells": [
  {
   "cell_type": "code",
   "execution_count": 2,
   "metadata": {},
   "outputs": [
    {
     "name": "stdout",
     "output_type": "stream",
     "text": [
      "{'i_Xgrid': array([7853., 6511., 6176., 2988., 3323., 8229., 1780., 4398.,  311.,\n",
      "       1651., 7853., 6511., 6176., 2988., 3323., 8229., 1780., 4398.,\n",
      "        311., 1651., 7853., 6511., 6176., 2988., 3323., 8229., 1780.,\n",
      "       4398.,  311., 1651., 7853., 6511., 6176., 2988., 3323., 8229.,\n",
      "       1780., 4398.,  311., 1651., 7853., 6511., 6176., 2988., 3323.,\n",
      "       8229., 1780., 4398.,  311., 1651., 7853., 6511., 6176., 2988.,\n",
      "       3323., 8229., 1780., 4398.,  311., 1651., 7853., 6511., 6176.,\n",
      "       2988., 3323., 8229., 1780., 4398.,  311., 1651., 7853., 6511.,\n",
      "       6176., 2988., 3323., 8229., 1780., 4398.,  311., 1651., 7853.,\n",
      "       6511., 6176., 2988., 3323., 8229., 1780., 4398.,  311., 1651.,\n",
      "       7853., 6511., 6176., 2988., 3323., 8229., 1780., 4398.,  311.,\n",
      "       1651., 7853., 6511., 6176., 2988., 3323., 8229., 1780., 4398.,\n",
      "        311., 1651., 7853., 6511., 6176., 2988., 3323., 8229., 1780.,\n",
      "       4398.,  311., 1651.]), 'i_Ygrid': array([9553., 8344., 6740., 6197., 8181., 8037., 4618., 8074.,  780.,\n",
      "       7859., 9553., 8344., 6740., 6197., 8181., 8037., 4618., 8074.,\n",
      "        780., 7859., 9553., 8344., 6740., 6197., 8181., 8037., 4618.,\n",
      "       8074.,  780., 7859., 9553., 8344., 6740., 6197., 8181., 8037.,\n",
      "       4618., 8074.,  780., 7859., 9553., 8344., 6740., 6197., 8181.,\n",
      "       8037., 4618., 8074.,  780., 7859., 9553., 8344., 6740., 6197.,\n",
      "       8181., 8037., 4618., 8074.,  780., 7859., 9553., 8344., 6740.,\n",
      "       6197., 8181., 8037., 4618., 8074.,  780., 7859., 9553., 8344.,\n",
      "       6740., 6197., 8181., 8037., 4618., 8074.,  780., 7859., 9553.,\n",
      "       8344., 6740., 6197., 8181., 8037., 4618., 8074.,  780., 7859.,\n",
      "       9553., 8344., 6740., 6197., 8181., 8037., 4618., 8074.,  780.,\n",
      "       7859., 9553., 8344., 6740., 6197., 8181., 8037., 4618., 8074.,\n",
      "        780., 7859., 9553., 8344., 6740., 6197., 8181., 8037., 4618.,\n",
      "       8074.,  780., 7859.]), 'valeur': array([11., 14., 14., 15., 14., 16., 16., 15., 17., 13., 13., 14., 14.,\n",
      "       15., 14., 16., 16., 14., 17., 12., 13., 14., 15., 15., 15., 15.,\n",
      "       16., 14., 17., 12., 15., 15., 15., 16., 15., 16., 16., 15., 17.,\n",
      "       12., 16., 15., 15., 17., 16., 16., 16., 16., 17., 12., 17., 16.,\n",
      "       16., 17., 16., 17., 17., 16., 17., 12., 17., 16., 16., 15., 16.,\n",
      "       18., 17., 16., 17., 13., 17., 15., 16., 15., 15., 18., 17., 16.,\n",
      "       18., 12., 16., 14., 16., 14., 14., 17., 16., 15., 17., 12., 16.,\n",
      "       16., 16., 16., 16., 18., 18., 16., 18., 14., 17., 17., 17., 17.,\n",
      "       17., 18., 19., 17., 18., 16., 18., 17., 18., 18., 17., 19., 19.,\n",
      "       18., 19., 17.])}\n"
     ]
    }
   ],
   "source": [
    "import pandas as pd\n",
    "import numpy as np\n",
    "from grid import x, y\n",
    "\n",
    "def find_nearest(array, value):\n",
    "    \n",
    "    \"\"\"\n",
    "    Trouve l'indice du point le plus près d'une valeur donnée dans un array donné\n",
    "\n",
    "    ### Paramètres\n",
    "    array: Le array dans lequel chercher l'indice\n",
    "    value: La valeur pour laquelle on veut trouver le point le plus proche\n",
    "    \n",
    "    ### Retourne\n",
    "    idx: L'indice du point le plus près de la valeur donnée\n",
    "    \n",
    "    \"\"\"\n",
    "    \n",
    "    array = np.asarray(array)\n",
    "    idx = (np.abs(array - value)).argmin()\n",
    "    \n",
    "    return idx\n",
    "\n",
    "\n",
    "# Reading the data\n",
    "\n",
    "data = pd.read_csv(\"../Data/air_pollution/rsqa-indice-qualite-air-station.csv\",delimiter=\",\")\n",
    "\n",
    "stationId = data[\"stationId\"]\n",
    "longitude = data[\"longitude\"]\n",
    "latitude = data[\"latitude\"]\n",
    "polluant = data[\"polluant\"]\n",
    "quantite = data[\"valeur\"] #De 0 à 500\n",
    "\n",
    "air_pollution_dict = dict()\n",
    "air_pollution_dict[\"i_Xgrid\"] = np.zeros(len(stationId))\n",
    "air_pollution_dict[\"i_Ygrid\"] = np.zeros(len(stationId))\n",
    "air_pollution_dict[\"valeur\"] = np.zeros(len(stationId))\n",
    "\n",
    "for i in range(len(stationId)): \n",
    "\n",
    "    #On trouve l'élément de la grid le plus proche de l'emplacement du stationId\n",
    "    i_Xgrid = find_nearest(latitude[i],x)\n",
    "    i_Ygrid = find_nearest(longitude[i],y)\n",
    "    \n",
    "    air_pollution_dict[\"i_Xgrid\"][i] = i_Xgrid\n",
    "    air_pollution_dict[\"i_Ygrid\"][i] = i_Ygrid\n",
    "    \n",
    "    #On trouve la quantité de polluant\n",
    "    air_pollution_dict[\"valeur\"][i] = quantite[i]\n"
   ]
  }
 ],
 "metadata": {
  "kernelspec": {
   "display_name": "base",
   "language": "python",
   "name": "python3"
  },
  "language_info": {
   "codemirror_mode": {
    "name": "ipython",
    "version": 3
   },
   "file_extension": ".py",
   "mimetype": "text/x-python",
   "name": "python",
   "nbconvert_exporter": "python",
   "pygments_lexer": "ipython3",
   "version": "3.8.13"
  },
  "orig_nbformat": 4,
  "vscode": {
   "interpreter": {
    "hash": "6273220d8bc7ae11b70a9635d3a5f0503e91b14cd88235f8dad01f4cd2f542b3"
   }
  }
 },
 "nbformat": 4,
 "nbformat_minor": 2
}
