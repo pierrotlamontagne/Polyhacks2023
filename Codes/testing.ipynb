{
 "cells": [
  {
   "attachments": {},
   "cell_type": "markdown",
   "metadata": {},
   "source": [
    "### Pollution de l'air"
   ]
  },
  {
   "cell_type": "code",
   "execution_count": 1,
   "metadata": {},
   "outputs": [],
   "source": [
    "import pandas as pd\n",
    "import numpy as np\n",
    "from grid import x, y\n",
    "\n",
    "def find_nearest(array, value):\n",
    "    \n",
    "    \"\"\"\n",
    "    Trouve l'indice du point le plus près d'une valeur donnée dans un array donné\n",
    "\n",
    "    ### Paramètres\n",
    "    array: Le array dans lequel chercher l'indice\n",
    "    value: La valeur pour laquelle on veut trouver le point le plus proche\n",
    "    \n",
    "    ### Retourne\n",
    "    idx: L'indice du point le plus près de la valeur donnée\n",
    "    \n",
    "    \"\"\"\n",
    "    \n",
    "    array = np.asarray(array)\n",
    "    idx = (np.abs(array - value)).argmin()\n",
    "    \n",
    "    return idx\n",
    "\n",
    "\n",
    "# Reading the data\n",
    "\n",
    "data = pd.read_csv(\"../Data/air_pollution/rsqa-indice-qualite-air-station.csv\",delimiter=\",\")\n",
    "\n",
    "stationId = data[\"stationId\"]\n",
    "longitude = data[\"longitude\"]\n",
    "latitude = data[\"latitude\"]\n",
    "polluant = data[\"polluant\"]\n",
    "quantite = data[\"valeur\"] #De 0 à 500\n",
    "\n",
    "air_pollution_dict = dict()\n",
    "air_pollution_dict[\"x\"] = np.zeros(len(stationId))\n",
    "air_pollution_dict[\"y\"] = np.zeros(len(stationId))\n",
    "air_pollution_dict[\"valeur\"] = np.zeros(len(stationId))\n",
    "\n",
    "grid_x = np.zeros((len(x),len(y)))\n",
    "grid_y = np.zeros((len(x),len(y)))\n",
    "\n",
    "for i in range(len(stationId)): \n",
    "\n",
    "    #On trouve l'élément de la grid le plus proche de l'emplacement du stationId\n",
    "    i_Xgrid = find_nearest(latitude[i],x)\n",
    "    i_Ygrid = find_nearest(longitude[i],y)\n",
    "    \n",
    "    air_pollution_dict[\"x\"][i] = i_Xgrid\n",
    "    air_pollution_dict[\"y\"][i] = i_Ygrid\n",
    "    \n",
    "    #On trouve la quantité de polluant\n",
    "    air_pollution_dict[\"valeur\"][i] = quantite[i]\n",
    "    \n",
    "#TODO: Ajouter du bruit gaussien autour des sources de polluants\n",
    "#gaussian_2D = A * np.exp(-(((grid_x - x_0)**2 / (2 * sigma_x**2)) + ((grid_y - y_0)**2 / (2 * sigma_y**2))))\n"
   ]
  },
  {
   "attachments": {},
   "cell_type": "markdown",
   "metadata": {},
   "source": [
    "### Implémentation des points"
   ]
  },
  {
   "cell_type": "code",
   "execution_count": 2,
   "metadata": {},
   "outputs": [
    {
     "name": "stdout",
     "output_type": "stream",
     "text": [
      "(array([0], dtype=int64),)\n"
     ]
    },
    {
     "data": {
      "text/plain": [
       "array([11.])"
      ]
     },
     "execution_count": 2,
     "metadata": {},
     "output_type": "execute_result"
    }
   ],
   "source": [
    "from point_object import point\n",
    "\n",
    "test_point = point(7853,9553,1)\n",
    "test_point.pollution_air"
   ]
  },
  {
   "cell_type": "code",
   "execution_count": 3,
   "metadata": {},
   "outputs": [
    {
     "name": "stdout",
     "output_type": "stream",
     "text": [
      "{'x': array([7853., 6511., 6176., 2988., 3323., 8229., 1780., 4398.,  311.,\n",
      "       1651.]), 'y': array([9553., 8344., 6740., 6197., 8181., 8037., 4618., 8074.,  780.,\n",
      "       7859.]), 'valeur': array([11., 14., 14., 15., 14., 16., 16., 15., 17., 13.])}\n"
     ]
    }
   ],
   "source": [
    "from reading_air_pollution import air_pollution_dict\n",
    "\n",
    "print(air_pollution_dict)"
   ]
  },
  {
   "cell_type": "code",
   "execution_count": 4,
   "metadata": {},
   "outputs": [],
   "source": [
    "import matplotlib.pyplot as plt\n",
    "\n",
    "grid = np.zeros((10000,10000))\n",
    "x = (air_pollution_dict[\"x\"])\n",
    "y = (air_pollution_dict[\"y\"])\n",
    "\n",
    "for j in range(len(x)):\n",
    "    grid[int(x[j])][int(y[j])] = air_pollution_dict[\"valeur\"][j]\n",
    "    \n"
   ]
  },
  {
   "attachments": {},
   "cell_type": "markdown",
   "metadata": {},
   "source": [
    "### Température"
   ]
  },
  {
   "cell_type": "code",
   "execution_count": 2,
   "metadata": {},
   "outputs": [
    {
     "data": {
      "text/plain": [
       "0       1.0\n",
       "1      11.4\n",
       "2       0.0\n",
       "3       0.6\n",
       "4       0.0\n",
       "       ... \n",
       "360     0.0\n",
       "361     2.0\n",
       "362     0.0\n",
       "363     0.6\n",
       "364     0.2\n",
       "Name: Total Snow (cm), Length: 365, dtype: float64"
      ]
     },
     "execution_count": 2,
     "metadata": {},
     "output_type": "execute_result"
    }
   ],
   "source": [
    "import pandas as pd\n",
    "import numpy as np\n",
    "\n",
    "data = pd.read_csv(\"../Data/temperature/temp_data_2021.csv\",delimiter=\",\")\n",
    "\n",
    "temp = data[\"Mean Temp (°C)\"]\n",
    "precipitation= data[\"Total Precip (mm)\"]\n"
   ]
  },
  {
   "attachments": {},
   "cell_type": "markdown",
   "metadata": {},
   "source": [
    "### Ilots de chaleur"
   ]
  },
  {
   "cell_type": "code",
   "execution_count": null,
   "metadata": {},
   "outputs": [],
   "source": []
  }
 ],
 "metadata": {
  "kernelspec": {
   "display_name": "base",
   "language": "python",
   "name": "python3"
  },
  "language_info": {
   "codemirror_mode": {
    "name": "ipython",
    "version": 3
   },
   "file_extension": ".py",
   "mimetype": "text/x-python",
   "name": "python",
   "nbconvert_exporter": "python",
   "pygments_lexer": "ipython3",
   "version": "3.8.13"
  },
  "orig_nbformat": 4,
  "vscode": {
   "interpreter": {
    "hash": "6273220d8bc7ae11b70a9635d3a5f0503e91b14cd88235f8dad01f4cd2f542b3"
   }
  }
 },
 "nbformat": 4,
 "nbformat_minor": 2
}
